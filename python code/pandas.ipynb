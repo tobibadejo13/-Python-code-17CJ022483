{
 "cells": [
  {
   "cell_type": "code",
   "execution_count": null,
   "metadata": {},
   "outputs": [],
   "source": [
    "import pandas as pd\n"
   ]
  },
  {
   "cell_type": "code",
   "execution_count": null,
   "metadata": {},
   "outputs": [],
   "source": [
    "# Creating a DataFrame\n",
    "data = {\n",
    "    'Name': ['Alice', 'Bob', 'Charlie', 'David', 'Eva'],\n",
    "    'Age': [25, 30, 35, 28, 22],\n",
    "    'Score': [85, 70, 90, 80, 75]\n",
    "}\n",
    "df = pd.DataFrame(data)"
   ]
  },
  {
   "cell_type": "code",
   "execution_count": null,
   "metadata": {},
   "outputs": [],
   "source": [
    "# Displaying basic DataFrame information\n",
    "print(\"DataFrame:\")\n",
    "print(df)\n",
    "print(\"\\nDataFrame Info:\")\n",
    "print(df.info())\n",
    "print(\"\\nDataFrame Description:\")\n",
    "print(df.describe())\n"
   ]
  },
  {
   "cell_type": "code",
   "execution_count": null,
   "metadata": {},
   "outputs": [],
   "source": [
    "# Indexing and selecting data\n",
    "print(\"\\nSelecting Columns:\")\n",
    "print(df['Name'])  # Selecting a single column\n",
    "print(\"\\nSelecting Rows:\")\n",
    "print(df.iloc[2])  # Selecting a single row by index\n",
    "print(\"\\nSelecting Subset of Data:\")\n",
    "print(df.loc[1:3, ['Name', 'Score']])  # Selecting a subset of rows and columns\n"
   ]
  },
  {
   "cell_type": "code",
   "execution_count": null,
   "metadata": {},
   "outputs": [],
   "source": [
    "# Filtering data\n",
    "print(\"\\nFiltering Data:\")\n",
    "print(df[df['Age'] > 25])  # Filtering based on condition"
   ]
  },
  {
   "cell_type": "code",
   "execution_count": null,
   "metadata": {},
   "outputs": [],
   "source": [
    "# Sorting\n",
    "print(\"\\nSorting Data:\")\n",
    "print(df.sort_values(by='Age', ascending=False))  # Sorting by Age in descending order\n"
   ]
  },
  {
   "cell_type": "code",
   "execution_count": null,
   "metadata": {},
   "outputs": [],
   "source": [
    "# Adding and deleting columns\n",
    "df['Grade'] = ['A', 'B', 'A', 'B', 'B']  # Adding a new column\n",
    "print(\"\\nDataFrame with New Column:\")\n",
    "print(df)\n",
    "df = df.drop(columns='Grade')  # Deleting the 'Grade' column\n",
    "print(\"\\nDataFrame with Deleted Column:\")\n",
    "print(df)"
   ]
  },
  {
   "cell_type": "code",
   "execution_count": null,
   "metadata": {},
   "outputs": [],
   "source": [
    "# Reading from and writing to CSV file\n",
    "df.to_csv('sample_data.csv', index=False)  # Writing DataFrame to CSV\n",
    "new_df = pd.read_csv('sample_data.csv')  # Reading CSV file into a new DataFrame\n",
    "print(\"\\nNew DataFrame from CSV:\")\n",
    "print(new_df)"
   ]
  }
 ],
 "metadata": {
  "language_info": {
   "name": "python"
  }
 },
 "nbformat": 4,
 "nbformat_minor": 2
}
