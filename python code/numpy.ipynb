{
 "cells": [
  {
   "cell_type": "code",
   "execution_count": null,
   "metadata": {},
   "outputs": [],
   "source": [
    "import numpy as np"
   ]
  },
  {
   "cell_type": "code",
   "execution_count": null,
   "metadata": {},
   "outputs": [],
   "source": [
    "arr1 = np.array([1, 2, 3, 4, 5])\n",
    "arr2 = np.array([[1, 2, 3], [4, 5, 6]])"
   ]
  },
  {
   "cell_type": "code",
   "execution_count": null,
   "metadata": {},
   "outputs": [],
   "source": [
    "print(\"NumPy Array 1:\")\n",
    "print(arr1)\n",
    "print(\"NumPy Array 2:\")\n",
    "print(arr2)\n"
   ]
  },
  {
   "cell_type": "code",
   "execution_count": null,
   "metadata": {},
   "outputs": [],
   "source": [
    "# Basic array properties\n",
    "print(\"\\nArray 1 Shape:\", arr1.shape)\n",
    "print(\"Array 2 Shape:\", arr2.shape)\n",
    "print(\"Array 1 Dimension:\", arr1.ndim)\n",
    "print(\"Array 2 Dimension:\", arr2.ndim)\n",
    "print(\"Array 1 Data Type:\", arr1.dtype)\n",
    "print(\"Array 2 Data Type:\", arr2.dtype)"
   ]
  },
  {
   "cell_type": "code",
   "execution_count": null,
   "metadata": {},
   "outputs": [],
   "source": [
    "# Reshaping arrays\n",
    "arr3 = np.arange(12).reshape(3, 4)\n",
    "print(\"\\nReshaped Array:\")\n",
    "print(arr3)"
   ]
  },
  {
   "cell_type": "code",
   "execution_count": null,
   "metadata": {},
   "outputs": [],
   "source": [
    "# Slicing arrays\n",
    "print(\"\\nSliced Array:\")\n",
    "print(arr3[1:3, 1:3])"
   ]
  },
  {
   "cell_type": "code",
   "execution_count": null,
   "metadata": {},
   "outputs": [],
   "source": [
    "# Array operations\n",
    "print(\"\\nArray Operations:\")\n",
    "print(\"Sum of Array 1:\", np.sum(arr1))\n",
    "print(\"Mean of Array 2:\", np.mean(arr2))\n",
    "print(\"Max of Array 1:\", np.max(arr1))\n",
    "print(\"Min of Array 2:\", np.min(arr2))"
   ]
  },
  {
   "cell_type": "code",
   "execution_count": null,
   "metadata": {},
   "outputs": [],
   "source": [
    "# Broadcasting and element-wise operations\n",
    "print(\"\\nBroadcasting & Element-wise Operations:\")\n",
    "print(\"Addition:\")\n",
    "print(arr1 + 10)\n",
    "print(\"Multiplication:\")\n",
    "print(arr2 * 2)"
   ]
  },
  {
   "cell_type": "code",
   "execution_count": null,
   "metadata": {},
   "outputs": [],
   "source": [
    "# Linear algebra operations\n",
    "matrix_a = np.array([[1, 2], [3, 4]])\n",
    "matrix_b = np.array([[5, 6], [7, 8]])\n",
    "print(\"\\nMatrix Multiplication:\")\n",
    "print(np.dot(matrix_a, matrix_b))"
   ]
  },
  {
   "cell_type": "code",
   "execution_count": null,
   "metadata": {},
   "outputs": [],
   "source": [
    "# Random number generation\n",
    "random_array = np.random.rand(3, 3)\n",
    "print(\"\\nRandom Array:\")\n",
    "print(random_array)"
   ]
  }
 ],
 "metadata": {
  "language_info": {
   "name": "python"
  }
 },
 "nbformat": 4,
 "nbformat_minor": 2
}
